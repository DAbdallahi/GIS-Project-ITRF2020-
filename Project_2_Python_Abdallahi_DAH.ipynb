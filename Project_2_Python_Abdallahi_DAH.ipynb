{
  "nbformat": 4,
  "nbformat_minor": 0,
  "metadata": {
    "colab": {
      "provenance": []
    },
    "kernelspec": {
      "name": "python3",
      "display_name": "Python 3"
    },
    "language_info": {
      "name": "python"
    }
  },
  "cells": [
    {
      "cell_type": "markdown",
      "source": [
        "# Import necessary libraries"
      ],
      "metadata": {
        "id": "FdX09lXm2s2K"
      }
    },
    {
      "cell_type": "code",
      "execution_count": 1,
      "metadata": {
        "id": "XKpiMUXl1jvF"
      },
      "outputs": [],
      "source": [
        "import pandas as pd\n",
        "import geopandas as gpd\n",
        "from pyproj import Transformer\n",
        "from shapely.geometry import Point\n",
        "\n",
        "import os\n",
        "import pandas as pd\n",
        "import geopandas as gpd\n",
        "from shapely.geometry import Polygon\n",
        "import requests\n",
        "import json\n",
        "from tqdm import tqdm\n",
        "\n",
        "import requests\n",
        "import json"
      ]
    },
    {
      "cell_type": "markdown",
      "source": [
        "# Part 1\n",
        "\n",
        "In Part 1, we processed geodetic data to create a shapefile (instruments.shp) with the geographic positions of instruments. The data was merged, transformed to EPSG:4326, structured with site_id and instrument_id, and cleaned for GIS integration."
      ],
      "metadata": {
        "id": "oYz1Yx9F2eEe"
      }
    },
    {
      "cell_type": "code",
      "source": [
        "# Step 1: Load the files into pandas DataFrames\n",
        "doris_df = pd.read_fwf('ITRF2020_DORIS_cart.txt')\n",
        "gnss_df = pd.read_fwf('ITRF2020_GNSS_cart.txt')\n",
        "slr_df = pd.read_fwf('ITRF2020_SLR_cart.txt')\n",
        "vlbi_df = pd.read_fwf('ITRF2020_VLBI_cart.txt')"
      ],
      "metadata": {
        "id": "PXoOaQ2w2iQs"
      },
      "execution_count": 2,
      "outputs": []
    },
    {
      "cell_type": "code",
      "source": [
        "# Step 2: Merge all the DataFrames into a single DataFrame\n",
        "# Combine the data from all the files into one DataFrame for further processing\n",
        "df_merged = pd.concat([doris_df, gnss_df, slr_df, vlbi_df])\n",
        "df_merged.head()"
      ],
      "metadata": {
        "id": "eMp7VNYW24iO"
      },
      "execution_count": 3,
      "outputs": []
    },
    {
      "cell_type": "code",
      "source": [
        "# Step 3: Convert to a GeoDataFrame\n",
        "# Transform coordinates from EPSG:4978 (x, y, z) to EPSG:4326 (latitude, longitude)\n",
        "\n",
        "# Initialize the transformer for EPSG:4978 to EPSG:4326\n",
        "transformer = Transformer.from_crs(\"EPSG:4978\", \"EPSG:4326\", always_xy=True)\n",
        "\n",
        "# Function to transform x, y, z coordinates to a latitude-longitude point\n",
        "def convert_to_latlon(row):\n",
        "    lon, lat, _ = transformer.transform(row['x'], row['y'], row['z'])\n",
        "    return Point(lon, lat)\n",
        "\n",
        "# Apply the transformation to create a geometry column\n",
        "df_merged['geometry'] = df_merged.apply(convert_to_latlon, axis=1)\n",
        "\n",
        "# Convert the DataFrame into a GeoDataFrame with EPSG:4326 as its CRS\n",
        "gdf = gpd.GeoDataFrame(df_merged, geometry='geometry', crs=\"EPSG:4326\")\n",
        "gdf.head()"
      ],
      "metadata": {
        "colab": {
          "base_uri": "https://localhost:8080/",
          "height": 206
        },
        "id": "_f2k3_n7FnMk",
        "outputId": "bb9c17dc-0ff7-466d-e6a0-c3015d54679b"
      },
      "execution_count": 15,
      "outputs": [
        {
          "output_type": "execute_result",
          "data": {
            "text/plain": [
              "          id          name   type  code             x            y  \\\n",
              "0  10002S018  Grasse (OCA)  DORIS  GR3B  4.581680e+06  556166.4818   \n",
              "1  10002S019  Grasse (OCA)  DORIS  GR4B  4.581681e+06  556166.9141   \n",
              "2  10003S001      Toulouse  DORIS  TLSA  4.628047e+06  119670.6873   \n",
              "3  10003S003      Toulouse  DORIS  TLHA  4.628693e+06  119985.0770   \n",
              "4  10003S005      Toulouse  DORIS  TLSB  4.628694e+06  119985.0787   \n",
              "\n",
              "              z      dx      dy      dz                  geometry  \n",
              "0  4.389372e+06   0.002  0.0025   0.002  POINT (6.92123 43.75483)  \n",
              "1  4.389371e+06  0.0019  0.0024  0.0017  POINT (6.92123 43.75483)  \n",
              "2  4.372788e+06  0.0054  0.0062  0.0051  POINT (1.48121 43.55814)  \n",
              "3  4.372105e+06  0.0034  0.0042  0.0032  POINT (1.48489 43.54962)  \n",
              "4  4.372105e+06  0.0026  0.0039  0.0025  POINT (1.48489 43.54962)  "
            ],
            "text/html": [
              "\n",
              "  <div id=\"df-1364edc9-b207-4fe3-aa0c-a7bca46a1130\" class=\"colab-df-container\">\n",
              "    <div>\n",
              "<style scoped>\n",
              "    .dataframe tbody tr th:only-of-type {\n",
              "        vertical-align: middle;\n",
              "    }\n",
              "\n",
              "    .dataframe tbody tr th {\n",
              "        vertical-align: top;\n",
              "    }\n",
              "\n",
              "    .dataframe thead th {\n",
              "        text-align: right;\n",
              "    }\n",
              "</style>\n",
              "<table border=\"1\" class=\"dataframe\">\n",
              "  <thead>\n",
              "    <tr style=\"text-align: right;\">\n",
              "      <th></th>\n",
              "      <th>id</th>\n",
              "      <th>name</th>\n",
              "      <th>type</th>\n",
              "      <th>code</th>\n",
              "      <th>x</th>\n",
              "      <th>y</th>\n",
              "      <th>z</th>\n",
              "      <th>dx</th>\n",
              "      <th>dy</th>\n",
              "      <th>dz</th>\n",
              "      <th>geometry</th>\n",
              "    </tr>\n",
              "  </thead>\n",
              "  <tbody>\n",
              "    <tr>\n",
              "      <th>0</th>\n",
              "      <td>10002S018</td>\n",
              "      <td>Grasse (OCA)</td>\n",
              "      <td>DORIS</td>\n",
              "      <td>GR3B</td>\n",
              "      <td>4.581680e+06</td>\n",
              "      <td>556166.4818</td>\n",
              "      <td>4.389372e+06</td>\n",
              "      <td>0.002</td>\n",
              "      <td>0.0025</td>\n",
              "      <td>0.002</td>\n",
              "      <td>POINT (6.92123 43.75483)</td>\n",
              "    </tr>\n",
              "    <tr>\n",
              "      <th>1</th>\n",
              "      <td>10002S019</td>\n",
              "      <td>Grasse (OCA)</td>\n",
              "      <td>DORIS</td>\n",
              "      <td>GR4B</td>\n",
              "      <td>4.581681e+06</td>\n",
              "      <td>556166.9141</td>\n",
              "      <td>4.389371e+06</td>\n",
              "      <td>0.0019</td>\n",
              "      <td>0.0024</td>\n",
              "      <td>0.0017</td>\n",
              "      <td>POINT (6.92123 43.75483)</td>\n",
              "    </tr>\n",
              "    <tr>\n",
              "      <th>2</th>\n",
              "      <td>10003S001</td>\n",
              "      <td>Toulouse</td>\n",
              "      <td>DORIS</td>\n",
              "      <td>TLSA</td>\n",
              "      <td>4.628047e+06</td>\n",
              "      <td>119670.6873</td>\n",
              "      <td>4.372788e+06</td>\n",
              "      <td>0.0054</td>\n",
              "      <td>0.0062</td>\n",
              "      <td>0.0051</td>\n",
              "      <td>POINT (1.48121 43.55814)</td>\n",
              "    </tr>\n",
              "    <tr>\n",
              "      <th>3</th>\n",
              "      <td>10003S003</td>\n",
              "      <td>Toulouse</td>\n",
              "      <td>DORIS</td>\n",
              "      <td>TLHA</td>\n",
              "      <td>4.628693e+06</td>\n",
              "      <td>119985.0770</td>\n",
              "      <td>4.372105e+06</td>\n",
              "      <td>0.0034</td>\n",
              "      <td>0.0042</td>\n",
              "      <td>0.0032</td>\n",
              "      <td>POINT (1.48489 43.54962)</td>\n",
              "    </tr>\n",
              "    <tr>\n",
              "      <th>4</th>\n",
              "      <td>10003S005</td>\n",
              "      <td>Toulouse</td>\n",
              "      <td>DORIS</td>\n",
              "      <td>TLSB</td>\n",
              "      <td>4.628694e+06</td>\n",
              "      <td>119985.0787</td>\n",
              "      <td>4.372105e+06</td>\n",
              "      <td>0.0026</td>\n",
              "      <td>0.0039</td>\n",
              "      <td>0.0025</td>\n",
              "      <td>POINT (1.48489 43.54962)</td>\n",
              "    </tr>\n",
              "  </tbody>\n",
              "</table>\n",
              "</div>\n",
              "    <div class=\"colab-df-buttons\">\n",
              "\n",
              "  <div class=\"colab-df-container\">\n",
              "    <button class=\"colab-df-convert\" onclick=\"convertToInteractive('df-1364edc9-b207-4fe3-aa0c-a7bca46a1130')\"\n",
              "            title=\"Convert this dataframe to an interactive table.\"\n",
              "            style=\"display:none;\">\n",
              "\n",
              "  <svg xmlns=\"http://www.w3.org/2000/svg\" height=\"24px\" viewBox=\"0 -960 960 960\">\n",
              "    <path d=\"M120-120v-720h720v720H120Zm60-500h600v-160H180v160Zm220 220h160v-160H400v160Zm0 220h160v-160H400v160ZM180-400h160v-160H180v160Zm440 0h160v-160H620v160ZM180-180h160v-160H180v160Zm440 0h160v-160H620v160Z\"/>\n",
              "  </svg>\n",
              "    </button>\n",
              "\n",
              "  <style>\n",
              "    .colab-df-container {\n",
              "      display:flex;\n",
              "      gap: 12px;\n",
              "    }\n",
              "\n",
              "    .colab-df-convert {\n",
              "      background-color: #E8F0FE;\n",
              "      border: none;\n",
              "      border-radius: 50%;\n",
              "      cursor: pointer;\n",
              "      display: none;\n",
              "      fill: #1967D2;\n",
              "      height: 32px;\n",
              "      padding: 0 0 0 0;\n",
              "      width: 32px;\n",
              "    }\n",
              "\n",
              "    .colab-df-convert:hover {\n",
              "      background-color: #E2EBFA;\n",
              "      box-shadow: 0px 1px 2px rgba(60, 64, 67, 0.3), 0px 1px 3px 1px rgba(60, 64, 67, 0.15);\n",
              "      fill: #174EA6;\n",
              "    }\n",
              "\n",
              "    .colab-df-buttons div {\n",
              "      margin-bottom: 4px;\n",
              "    }\n",
              "\n",
              "    [theme=dark] .colab-df-convert {\n",
              "      background-color: #3B4455;\n",
              "      fill: #D2E3FC;\n",
              "    }\n",
              "\n",
              "    [theme=dark] .colab-df-convert:hover {\n",
              "      background-color: #434B5C;\n",
              "      box-shadow: 0px 1px 3px 1px rgba(0, 0, 0, 0.15);\n",
              "      filter: drop-shadow(0px 1px 2px rgba(0, 0, 0, 0.3));\n",
              "      fill: #FFFFFF;\n",
              "    }\n",
              "  </style>\n",
              "\n",
              "    <script>\n",
              "      const buttonEl =\n",
              "        document.querySelector('#df-1364edc9-b207-4fe3-aa0c-a7bca46a1130 button.colab-df-convert');\n",
              "      buttonEl.style.display =\n",
              "        google.colab.kernel.accessAllowed ? 'block' : 'none';\n",
              "\n",
              "      async function convertToInteractive(key) {\n",
              "        const element = document.querySelector('#df-1364edc9-b207-4fe3-aa0c-a7bca46a1130');\n",
              "        const dataTable =\n",
              "          await google.colab.kernel.invokeFunction('convertToInteractive',\n",
              "                                                    [key], {});\n",
              "        if (!dataTable) return;\n",
              "\n",
              "        const docLinkHtml = 'Like what you see? Visit the ' +\n",
              "          '<a target=\"_blank\" href=https://colab.research.google.com/notebooks/data_table.ipynb>data table notebook</a>'\n",
              "          + ' to learn more about interactive tables.';\n",
              "        element.innerHTML = '';\n",
              "        dataTable['output_type'] = 'display_data';\n",
              "        await google.colab.output.renderOutput(dataTable, element);\n",
              "        const docLink = document.createElement('div');\n",
              "        docLink.innerHTML = docLinkHtml;\n",
              "        element.appendChild(docLink);\n",
              "      }\n",
              "    </script>\n",
              "  </div>\n",
              "\n",
              "\n",
              "<div id=\"df-640fe3b3-d362-4566-9a58-a55e5b72ad22\">\n",
              "  <button class=\"colab-df-quickchart\" onclick=\"quickchart('df-640fe3b3-d362-4566-9a58-a55e5b72ad22')\"\n",
              "            title=\"Suggest charts\"\n",
              "            style=\"display:none;\">\n",
              "\n",
              "<svg xmlns=\"http://www.w3.org/2000/svg\" height=\"24px\"viewBox=\"0 0 24 24\"\n",
              "     width=\"24px\">\n",
              "    <g>\n",
              "        <path d=\"M19 3H5c-1.1 0-2 .9-2 2v14c0 1.1.9 2 2 2h14c1.1 0 2-.9 2-2V5c0-1.1-.9-2-2-2zM9 17H7v-7h2v7zm4 0h-2V7h2v10zm4 0h-2v-4h2v4z\"/>\n",
              "    </g>\n",
              "</svg>\n",
              "  </button>\n",
              "\n",
              "<style>\n",
              "  .colab-df-quickchart {\n",
              "      --bg-color: #E8F0FE;\n",
              "      --fill-color: #1967D2;\n",
              "      --hover-bg-color: #E2EBFA;\n",
              "      --hover-fill-color: #174EA6;\n",
              "      --disabled-fill-color: #AAA;\n",
              "      --disabled-bg-color: #DDD;\n",
              "  }\n",
              "\n",
              "  [theme=dark] .colab-df-quickchart {\n",
              "      --bg-color: #3B4455;\n",
              "      --fill-color: #D2E3FC;\n",
              "      --hover-bg-color: #434B5C;\n",
              "      --hover-fill-color: #FFFFFF;\n",
              "      --disabled-bg-color: #3B4455;\n",
              "      --disabled-fill-color: #666;\n",
              "  }\n",
              "\n",
              "  .colab-df-quickchart {\n",
              "    background-color: var(--bg-color);\n",
              "    border: none;\n",
              "    border-radius: 50%;\n",
              "    cursor: pointer;\n",
              "    display: none;\n",
              "    fill: var(--fill-color);\n",
              "    height: 32px;\n",
              "    padding: 0;\n",
              "    width: 32px;\n",
              "  }\n",
              "\n",
              "  .colab-df-quickchart:hover {\n",
              "    background-color: var(--hover-bg-color);\n",
              "    box-shadow: 0 1px 2px rgba(60, 64, 67, 0.3), 0 1px 3px 1px rgba(60, 64, 67, 0.15);\n",
              "    fill: var(--button-hover-fill-color);\n",
              "  }\n",
              "\n",
              "  .colab-df-quickchart-complete:disabled,\n",
              "  .colab-df-quickchart-complete:disabled:hover {\n",
              "    background-color: var(--disabled-bg-color);\n",
              "    fill: var(--disabled-fill-color);\n",
              "    box-shadow: none;\n",
              "  }\n",
              "\n",
              "  .colab-df-spinner {\n",
              "    border: 2px solid var(--fill-color);\n",
              "    border-color: transparent;\n",
              "    border-bottom-color: var(--fill-color);\n",
              "    animation:\n",
              "      spin 1s steps(1) infinite;\n",
              "  }\n",
              "\n",
              "  @keyframes spin {\n",
              "    0% {\n",
              "      border-color: transparent;\n",
              "      border-bottom-color: var(--fill-color);\n",
              "      border-left-color: var(--fill-color);\n",
              "    }\n",
              "    20% {\n",
              "      border-color: transparent;\n",
              "      border-left-color: var(--fill-color);\n",
              "      border-top-color: var(--fill-color);\n",
              "    }\n",
              "    30% {\n",
              "      border-color: transparent;\n",
              "      border-left-color: var(--fill-color);\n",
              "      border-top-color: var(--fill-color);\n",
              "      border-right-color: var(--fill-color);\n",
              "    }\n",
              "    40% {\n",
              "      border-color: transparent;\n",
              "      border-right-color: var(--fill-color);\n",
              "      border-top-color: var(--fill-color);\n",
              "    }\n",
              "    60% {\n",
              "      border-color: transparent;\n",
              "      border-right-color: var(--fill-color);\n",
              "    }\n",
              "    80% {\n",
              "      border-color: transparent;\n",
              "      border-right-color: var(--fill-color);\n",
              "      border-bottom-color: var(--fill-color);\n",
              "    }\n",
              "    90% {\n",
              "      border-color: transparent;\n",
              "      border-bottom-color: var(--fill-color);\n",
              "    }\n",
              "  }\n",
              "</style>\n",
              "\n",
              "  <script>\n",
              "    async function quickchart(key) {\n",
              "      const quickchartButtonEl =\n",
              "        document.querySelector('#' + key + ' button');\n",
              "      quickchartButtonEl.disabled = true;  // To prevent multiple clicks.\n",
              "      quickchartButtonEl.classList.add('colab-df-spinner');\n",
              "      try {\n",
              "        const charts = await google.colab.kernel.invokeFunction(\n",
              "            'suggestCharts', [key], {});\n",
              "      } catch (error) {\n",
              "        console.error('Error during call to suggestCharts:', error);\n",
              "      }\n",
              "      quickchartButtonEl.classList.remove('colab-df-spinner');\n",
              "      quickchartButtonEl.classList.add('colab-df-quickchart-complete');\n",
              "    }\n",
              "    (() => {\n",
              "      let quickchartButtonEl =\n",
              "        document.querySelector('#df-640fe3b3-d362-4566-9a58-a55e5b72ad22 button');\n",
              "      quickchartButtonEl.style.display =\n",
              "        google.colab.kernel.accessAllowed ? 'block' : 'none';\n",
              "    })();\n",
              "  </script>\n",
              "</div>\n",
              "\n",
              "    </div>\n",
              "  </div>\n"
            ],
            "application/vnd.google.colaboratory.intrinsic+json": {
              "type": "dataframe",
              "variable_name": "gdf",
              "summary": "{\n  \"name\": \"gdf\",\n  \"rows\": 1842,\n  \"fields\": [\n    {\n      \"column\": \"id\",\n      \"properties\": {\n        \"dtype\": \"string\",\n        \"num_unique_values\": 1823,\n        \"samples\": [\n          \"20411M001\",\n          \"40404M001\",\n          \"11001M002\"\n        ],\n        \"semantic_type\": \"\",\n        \"description\": \"\"\n      }\n    },\n    {\n      \"column\": \"name\",\n      \"properties\": {\n        \"dtype\": \"string\",\n        \"num_unique_values\": 1237,\n        \"samples\": [\n          \"SANTIAGO DE CUB\",\n          \"Ganovce\",\n          \"Wilkes Barre, L\"\n        ],\n        \"semantic_type\": \"\",\n        \"description\": \"\"\n      }\n    },\n    {\n      \"column\": \"type\",\n      \"properties\": {\n        \"dtype\": \"category\",\n        \"num_unique_values\": 5,\n        \"samples\": [\n          \"GNSS\",\n          \"VLBI\",\n          \"GNS\"\n        ],\n        \"semantic_type\": \"\",\n        \"description\": \"\"\n      }\n    },\n    {\n      \"column\": \"code\",\n      \"properties\": {\n        \"dtype\": \"string\",\n        \"num_unique_values\": 1819,\n        \"samples\": [\n          \"FTNA\",\n          \"UYTA\",\n          \"CHAB\"\n        ],\n        \"semantic_type\": \"\",\n        \"description\": \"\"\n      }\n    },\n    {\n      \"column\": \"x\",\n      \"properties\": {\n        \"dtype\": \"number\",\n        \"std\": 3413965.7352324524,\n        \"min\": -6327823.111,\n        \"max\": 6333076.4695,\n        \"num_unique_values\": 1838,\n        \"samples\": [\n          3839591.3297,\n          -2460296.0519,\n          -3580828.4393\n        ],\n        \"semantic_type\": \"\",\n        \"description\": \"\"\n      }\n    },\n    {\n      \"column\": \"y\",\n      \"properties\": {\n        \"dtype\": \"number\",\n        \"std\": 3560584.9594276557,\n        \"min\": -6377522.6431,\n        \"max\": 6291996.9363,\n        \"num_unique_values\": 1839,\n        \"samples\": [\n          2551362.9866,\n          -5456322.897,\n          1399698.1814\n        ],\n        \"semantic_type\": \"\",\n        \"description\": \"\"\n      }\n    },\n    {\n      \"column\": \"z\",\n      \"properties\": {\n        \"dtype\": \"number\",\n        \"std\": 3468141.272728668,\n        \"min\": -6343497.7916,\n        \"max\": 6302001.937,\n        \"num_unique_values\": 1839,\n        \"samples\": [\n          4441445.2134,\n          3208395.334,\n          5072185.0718\n        ],\n        \"semantic_type\": \"\",\n        \"description\": \"\"\n      }\n    },\n    {\n      \"column\": \"dx\",\n      \"properties\": {\n        \"dtype\": \"category\",\n        \"num_unique_values\": 411,\n        \"samples\": [\n          0.0188,\n          0.0138,\n          0.0766\n        ],\n        \"semantic_type\": \"\",\n        \"description\": \"\"\n      }\n    },\n    {\n      \"column\": \"dy\",\n      \"properties\": {\n        \"dtype\": \"category\",\n        \"num_unique_values\": 430,\n        \"samples\": [\n          0.1498,\n          0.0031,\n          0.0053\n        ],\n        \"semantic_type\": \"\",\n        \"description\": \"\"\n      }\n    },\n    {\n      \"column\": \"dz\",\n      \"properties\": {\n        \"dtype\": \"category\",\n        \"num_unique_values\": 406,\n        \"samples\": [\n          0.0192,\n          \"0.0210\",\n          \"0.1938\"\n        ],\n        \"semantic_type\": \"\",\n        \"description\": \"\"\n      }\n    },\n    {\n      \"column\": \"geometry\",\n      \"properties\": {\n        \"dtype\": \"geometry\",\n        \"num_unique_values\": 1839,\n        \"samples\": [\n          \"POINT (33.99161051031454 44.415356794400424)\",\n          \"POINT (-97.73515828861156 30.395478348196903)\",\n          \"POINT (158.65013303425567 53.02329959615644)\"\n        ],\n        \"semantic_type\": \"\",\n        \"description\": \"\"\n      }\n    }\n  ]\n}"
            }
          },
          "metadata": {},
          "execution_count": 15
        }
      ]
    },
    {
      "cell_type": "code",
      "source": [
        "# Step 4: Add site_id and instrument_id columns\n",
        "# Extract the first 5 characters of 'id' to create the site_id\n",
        "gdf['site_id'] = gdf['id'].str[:5]  # Site ID is the first 5 characters of the ID\n",
        "gdf['instrument_id'] = gdf['id']    # Full ID represents the instrument"
      ],
      "metadata": {
        "id": "LpEmsC9y3W3k"
      },
      "execution_count": 4,
      "outputs": []
    },
    {
      "cell_type": "code",
      "source": [
        "# Step 5: Remove unnecessary columns\n",
        "# Keep only the relevant columns for further analysis and save space\n",
        "columns_to_keep = ['site_id', 'instrument_id', 'type', 'geometry']\n",
        "gdf_cleaned = gdf[columns_to_keep]"
      ],
      "metadata": {
        "id": "4YgdEJur3ZsW"
      },
      "execution_count": 5,
      "outputs": []
    },
    {
      "cell_type": "code",
      "source": [
        "# Step 6: Save the GeoDataFrame to a shapefile\n",
        "# Output path for the shapefile\n",
        "output_path = \"instruments.shp\"\n",
        "\n",
        "# Save the cleaned GeoDataFrame as a shapefile\n",
        "gdf_cleaned.to_file(output_path)\n",
        "\n",
        "print(f\"Shapefile saved at: {output_path}\")"
      ],
      "metadata": {
        "colab": {
          "base_uri": "https://localhost:8080/"
        },
        "id": "nZ73Idcw3cUz",
        "outputId": "22f6504e-833f-4115-8166-0bdd641d5969"
      },
      "execution_count": 6,
      "outputs": [
        {
          "output_type": "stream",
          "name": "stdout",
          "text": [
            "Shapefile saved at: instruments.shp\n"
          ]
        },
        {
          "output_type": "stream",
          "name": "stderr",
          "text": [
            "<ipython-input-6-e165c005a981>:6: UserWarning: Column names longer than 10 characters will be truncated when saved to ESRI Shapefile.\n",
            "  gdf_cleaned.to_file(output_path)\n",
            "/usr/local/lib/python3.10/dist-packages/pyogrio/raw.py:723: RuntimeWarning: Normalized/laundered field name: 'instrument_id' to 'instrument'\n",
            "  ogr_write(\n"
          ]
        }
      ]
    },
    {
      "cell_type": "markdown",
      "source": [
        "# Part 2\n",
        "In Part 2, we identified valid sites with at least 3 instruments from 2 techniques, grouped their points by site, created polygons using convex hulls, and saved the results as `sites.shp`."
      ],
      "metadata": {
        "id": "SFxhcG_B3juU"
      }
    },
    {
      "cell_type": "code",
      "source": [
        "# Step 2.1: Filter instruments belonging to valid sites\n",
        "# A valid site must have at least 3 instruments from 2 different measurement techniques\n",
        "\n",
        "# Count the number of instruments and techniques per site\n",
        "site_groups = gdf_cleaned.groupby('site_id').agg(\n",
        "    instrument_count=('instrument_id', 'count'),\n",
        "    technique_count=('type', 'nunique')  # Count unique measurement techniques\n",
        ").reset_index()\n",
        "\n",
        "# Filter sites with at least 3 instruments and 2 different techniques\n",
        "valid_sites = site_groups[(site_groups['instrument_count'] >= 3) &\n",
        "                          (site_groups['technique_count'] >= 2)]['site_id']\n",
        "\n",
        "# Keep only instruments belonging to valid sites\n",
        "valid_instruments = gdf_cleaned[gdf_cleaned['site_id'].isin(valid_sites)]"
      ],
      "metadata": {
        "id": "DjSwxVX93fic"
      },
      "execution_count": 7,
      "outputs": []
    },
    {
      "cell_type": "code",
      "source": [
        "# Step 2.2: Spatial groupby (dissolve) to join points by site\n",
        "# Dissolve all instrument points belonging to the same site into a single geometry\n",
        "grouped_sites = valid_instruments.dissolve(by='site_id', as_index=False)"
      ],
      "metadata": {
        "id": "BmA2-b0o4Q8c"
      },
      "execution_count": 8,
      "outputs": []
    },
    {
      "cell_type": "code",
      "source": [
        "# Step 2.3: Calculate polygons using convex hull\n",
        "# Generate a convex hull polygon for each site\n",
        "grouped_sites['geometry'] = grouped_sites['geometry'].convex_hull\n",
        "\n",
        "# Step 2.4: Save the data\n",
        "# Save the new GeoDataFrame with the site polygons to a shapefile\n",
        "output_path_sites = \"sites.shp\"\n",
        "grouped_sites.to_file(output_path_sites)\n",
        "\n",
        "print(f\"Shapefile for sites saved at: {output_path_sites}\")"
      ],
      "metadata": {
        "colab": {
          "base_uri": "https://localhost:8080/"
        },
        "id": "cUn6FiIq4TCk",
        "outputId": "2a9d4a26-65c5-4354-a619-311af3a647f2"
      },
      "execution_count": 9,
      "outputs": [
        {
          "output_type": "stream",
          "name": "stdout",
          "text": [
            "Shapefile for sites saved at: sites.shp\n"
          ]
        },
        {
          "output_type": "stream",
          "name": "stderr",
          "text": [
            "<ipython-input-9-d074c2e20823>:8: UserWarning: Column names longer than 10 characters will be truncated when saved to ESRI Shapefile.\n",
            "  grouped_sites.to_file(output_path_sites)\n",
            "/usr/local/lib/python3.10/dist-packages/pyogrio/raw.py:723: RuntimeWarning: Normalized/laundered field name: 'instrument_id' to 'instrument'\n",
            "  ogr_write(\n"
          ]
        }
      ]
    },
    {
      "cell_type": "markdown",
      "source": [
        "# Part 3\n",
        "\n",
        "In Part 3, we automated the retrieval of satellite imagery metadata using the Copernicus OpenSearch API, filtering by site extent and date range. The data was parsed, handled for missing fields, and consolidated into a GeoDataFrame, enabling seamless integration into the GIS project for further analysis."
      ],
      "metadata": {
        "id": "acgsMWvc44a1"
      }
    },
    {
      "cell_type": "code",
      "source": [
        "def request_images(wkt_geometry, site_id, output_dir):\n",
        "    \"\"\"Query Sentinel API for images covering a site's extent.\"\"\"\n",
        "    items = []\n",
        "    page = 1  # Pagination support\n",
        "    while True:\n",
        "        # API request\n",
        "        r = requests.get(\n",
        "            \"https://catalogue.dataspace.copernicus.eu/resto/api/collections/Sentinel2/search.json\",\n",
        "            params={\n",
        "                \"geometry\": wkt_geometry,\n",
        "                \"startDate\": \"2022-01-01T00:00:00.000Z\",\n",
        "                \"completionDate\": \"2022-09-30T23:59:59.999Z\",\n",
        "                \"cloudCover\": \"[0,10]\",\n",
        "                \"maxRecords\": 20,\n",
        "                \"page\": page,\n",
        "            }\n",
        "        )\n",
        "        # Check response\n",
        "        if r.status_code != 200:\n",
        "            print(f\"Error querying API for site {site_id}: {r.status_code}\")\n",
        "            break\n",
        "\n",
        "        data = r.json()\n",
        "        if 'features' in data:\n",
        "            items.extend(data['features'])\n",
        "\n",
        "        # Stop if no more pages\n",
        "        if len(data['features']) < 20:\n",
        "            break\n",
        "        page += 1\n",
        "\n",
        "    # Save results to JSON file\n",
        "    json_file = f\"{output_dir}/{site_id}.json\"\n",
        "    with open(json_file, 'w') as f:\n",
        "        json.dump(items, f, indent=4)\n",
        "\n",
        "    return items"
      ],
      "metadata": {
        "id": "85s8_O7k4VYO"
      },
      "execution_count": 10,
      "outputs": []
    },
    {
      "cell_type": "code",
      "source": [
        "from shapely.geometry import shape\n",
        "\n",
        "# Paths\n",
        "output_dir = \"site_json_data\"\n",
        "os.makedirs(output_dir, exist_ok=True)\n",
        "\n",
        "# Load sites GeoDataFrame from Part 2\n",
        "sites_gdf = gpd.read_file(\"sites.shp\")\n",
        "\n",
        "# Step 3.1: Query images for each site\n",
        "image_data = []\n",
        "\n",
        "for _, row in tqdm(sites_gdf.iterrows(), total=sites_gdf.shape[0]):\n",
        "    site_id = row['site_id']\n",
        "    polygon = row['geometry'].wkt  # Get the WKT representation of the polygon\n",
        "\n",
        "    # Check if JSON exists\n",
        "    json_file = os.path.join(output_dir, f\"{site_id}.json\")\n",
        "    if os.path.exists(json_file):\n",
        "        # Load existing JSON\n",
        "        with open(json_file, 'r') as f:\n",
        "            items = json.load(f)\n",
        "    else:\n",
        "        # Query the API\n",
        "        items = request_images(polygon, site_id, output_dir)\n",
        "\n",
        "    # Parse and collect image data\n",
        "    for item in items:\n",
        "        properties = item.get('properties', {})\n",
        "        geometry = item.get('geometry', {})\n",
        "\n",
        "        image_data.append({\n",
        "            \"site_id\": site_id,\n",
        "            \"id\": properties.get('id', 'N/A'),  # Use 'N/A' if 'id' is missing\n",
        "            \"title\": properties.get('title', 'N/A'),\n",
        "            \"thumbnail\": properties.get('quicklook', 'N/A'),\n",
        "            \"url\": properties.get('services', {}).get('download', {}).get('url', 'N/A'),\n",
        "            \"orbitNumber\": properties.get('orbitNumber', 'N/A'),\n",
        "            \"ron\": properties.get('relativeOrbitNumber', 'N/A'),\n",
        "            \"orbit\": properties.get('orbitDirection', 'N/A'),\n",
        "            \"platform\": properties.get('platform', 'N/A'),\n",
        "            \"geometry\": shape(geometry) if geometry else None\n",
        "        })\n"
      ],
      "metadata": {
        "colab": {
          "base_uri": "https://localhost:8080/"
        },
        "id": "jaTwPqyn5-8t",
        "outputId": "f49558bd-81c4-4eb4-faf7-1a31ef6e3d7a"
      },
      "execution_count": 11,
      "outputs": [
        {
          "output_type": "stream",
          "name": "stderr",
          "text": [
            "100%|██████████| 105/105 [29:05<00:00, 16.62s/it]\n"
          ]
        }
      ]
    },
    {
      "cell_type": "code",
      "source": [
        "# Step 3.2: Create GeoDataFrame for images\n",
        "df_images = pd.DataFrame(image_data)\n",
        "gdf_images = gpd.GeoDataFrame(\n",
        "    df_images,\n",
        "    geometry=gpd.GeoSeries(df_images['geometry']),\n",
        "    crs=\"EPSG:4326\"\n",
        ")"
      ],
      "metadata": {
        "id": "IaP6lQMN6KJR"
      },
      "execution_count": 12,
      "outputs": []
    },
    {
      "cell_type": "code",
      "source": [
        "# Step 3.3: Save the data\n",
        "output_path_images = \"images.shp\"\n",
        "gdf_images.to_file(output_path_images)\n",
        "print(f\"Shapefile for images saved at: {output_path_images}\")"
      ],
      "metadata": {
        "colab": {
          "base_uri": "https://localhost:8080/"
        },
        "id": "uBJk_jop6MZD",
        "outputId": "52f1618c-101a-4353-8c5b-8be59b5bc6ca"
      },
      "execution_count": 13,
      "outputs": [
        {
          "output_type": "stream",
          "name": "stderr",
          "text": [
            "<ipython-input-13-91bd1d113bc4>:3: UserWarning: Column names longer than 10 characters will be truncated when saved to ESRI Shapefile.\n",
            "  gdf_images.to_file(output_path_images)\n",
            "/usr/local/lib/python3.10/dist-packages/pyogrio/raw.py:723: RuntimeWarning: Normalized/laundered field name: 'orbitNumber' to 'orbitNumbe'\n",
            "  ogr_write(\n"
          ]
        },
        {
          "output_type": "stream",
          "name": "stdout",
          "text": [
            "Shapefile for images saved at: images.shp\n"
          ]
        }
      ]
    },
    {
      "cell_type": "code",
      "source": [
        "import geopandas as gpd\n",
        "import matplotlib.pyplot as plt\n",
        "\n",
        "# Load the SHP files\n",
        "instruments_gdf = gpd.read_file('instruments.shp')  # Replace with your SHP file path\n",
        "sites_gdf = gpd.read_file('sites.shp')  # Replace with your SHP file path\n",
        "images_gdf = gpd.read_file('images.shp')  # Replace with your SHP file path\n",
        "\n",
        "# Set up a better plot layout and zoomed-in view\n",
        "fig, ax = plt.subplots(figsize=(7, 4))\n",
        "\n",
        "# Plot each GeoDataFrame with more distinct visual styles\n",
        "instruments_gdf.plot(ax=ax, color='blue', marker='o', label='Instruments', markersize=5, alpha=0.7)\n",
        "sites_gdf.plot(ax=ax, color='red', alpha=0.3, edgecolor='black', label='Sites', linewidth=2)\n",
        "images_gdf.plot(ax=ax, color='green', alpha=0.2, edgecolor='black', label='Satellite Images', linewidth=1)\n",
        "\n",
        "# Set plot title and labels\n",
        "ax.set_title('Visualization of Instruments, Sites, and Satellite Images', fontsize=16)\n",
        "ax.set_xlabel('Longitude', fontsize=12)\n",
        "ax.set_ylabel('Latitude', fontsize=12)\n",
        "\n",
        "# Set a more appropriate aspect ratio\n",
        "ax.set_aspect('equal', adjustable='box')\n",
        "\n",
        "# Add a legend\n",
        "ax.legend(loc='upper right', fontsize=12)\n",
        "\n",
        "# Show the plot\n",
        "plt.tight_layout()\n",
        "plt.show()"
      ],
      "metadata": {
        "colab": {
          "base_uri": "https://localhost:8080/",
          "height": 446
        },
        "id": "A9sFZVX6H5fg",
        "outputId": "b4c2ed87-541c-4784-b912-8da908738bdb"
      },
      "execution_count": 14,
      "outputs": [
        {
          "output_type": "stream",
          "name": "stderr",
          "text": [
            "<ipython-input-14-bd9efdc3ba66>:26: UserWarning: Legend does not support handles for PatchCollection instances.\n",
            "See: https://matplotlib.org/stable/tutorials/intermediate/legend_guide.html#implementing-a-custom-legend-handler\n",
            "  ax.legend(loc='upper right', fontsize=12)\n"
          ]
        },
        {
          "output_type": "display_data",
          "data": {
            "text/plain": [
              "<Figure size 700x400 with 1 Axes>"
            ],
            "image/png": "[encoded data removed]"
          },
          "metadata": {}
        }
      ]
    }
  ]
}